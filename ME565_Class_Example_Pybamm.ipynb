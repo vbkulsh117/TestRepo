{
  "cells": [
    {
      "cell_type": "markdown",
      "metadata": {
        "id": "view-in-github",
        "colab_type": "text"
      },
      "source": [
        "<a href=\"https://colab.research.google.com/github/vbkulsh117/TestRepo/blob/master/ME565_Class_Example_Pybamm.ipynb\" target=\"_parent\"><img src=\"https://colab.research.google.com/assets/colab-badge.svg\" alt=\"Open In Colab\"/></a>"
      ]
    },
    {
      "cell_type": "markdown",
      "metadata": {
        "id": "0SWqcS5OgHFM"
      },
      "source": [
        "# Tutorial 3 - Basic plotting"
      ]
    },
    {
      "cell_type": "markdown",
      "metadata": {
        "id": "Fkp3jCfpgHFO"
      },
      "source": [
        "In [Tutorial 2](./Tutorial%202%20-%20Compare%20models.ipynb), we made use of PyBaMM's automatic plotting function when comparing models. This gave a good quick overview of many of the key variables in the model. However, by passing in just a few arguments it is easy to plot any of the many other variables that may be of interest to you. We start by building and solving a model as before:"
      ]
    },
    {
      "cell_type": "code",
      "execution_count": null,
      "metadata": {
        "id": "OH4QbQu9gHFP",
        "outputId": "ff2425f3-a9c1-44d1-95f2-305de0f6a651",
        "colab": {
          "base_uri": "https://localhost:8080/"
        }
      },
      "outputs": [
        {
          "output_type": "stream",
          "name": "stdout",
          "text": [
            "Current function [A]\t5.0\n",
            "Negative current collector conductivity [S.m-1]\t58411000.0\n",
            "Negative current collector density [kg.m-3]\t8960.0\n",
            "Negative current collector specific heat capacity [J.kg-1.K-1]\t385.0\n",
            "Negative current collector thermal conductivity [W.m-1.K-1]\t401.0\n",
            "Negative current collector thickness [m]\t1.2e-05\n",
            "Negative electrode exchange-current density [A.m-2]\t<function graphite_LGM50_electrolyte_exchange_current_density_Chen2020 at 0x7fbebae1e700>\n",
            "Positive current collector conductivity [S.m-1]\t36914000.0\n",
            "Positive current collector density [kg.m-3]\t2700.0\n",
            "Positive current collector specific heat capacity [J.kg-1.K-1]\t897.0\n",
            "Positive current collector thermal conductivity [W.m-1.K-1]\t237.0\n",
            "Positive current collector thickness [m]\t1.6e-05\n",
            "Positive electrode exchange-current density [A.m-2]\t<function nmc_LGM50_electrolyte_exchange_current_density_Chen2020 at 0x7fbebae1e820>\n",
            "SEI reaction exchange current density [A.m-2]\t1.5e-07\n",
            "Typical current [A]\t5.0\n"
          ]
        },
        {
          "output_type": "execute_result",
          "data": {
            "text/plain": [
              "<pybamm.solvers.solution.Solution at 0x7fbeb09c8850>"
            ]
          },
          "metadata": {},
          "execution_count": 49
        }
      ],
      "source": [
        "%pip install pybamm -q    # install PyBaMM if it is not installed\n",
        "import pybamm\n",
        "import matplotlib.pyplot as plt\n",
        "\n",
        "parameter_values = pybamm.ParameterValues(\"Chen2020\")\n",
        "parameter_values.search(\"Current\")\n",
        "parameter_values[\"Current function [A]\"] = 5\n",
        "\n",
        "model_dfn = pybamm.lithium_ion.DFN()\n",
        "sim_dfn = pybamm.Simulation(model_dfn, parameter_values=parameter_values)\n",
        "sim_dfn.solve([0, 3700])"
      ]
    },
    {
      "cell_type": "markdown",
      "metadata": {
        "id": "p6H5Ibt2gHFR"
      },
      "source": [
        "We now want to plot a selection of the model variables. To see a full list of the available variables just type:"
      ]
    },
    {
      "cell_type": "code",
      "execution_count": null,
      "metadata": {
        "id": "5TyKPw_vgHFR",
        "outputId": "94a32d46-09a5-4430-e9f1-53906fc7647f",
        "colab": {
          "base_uri": "https://localhost:8080/"
        }
      },
      "outputs": [
        {
          "output_type": "execute_result",
          "data": {
            "text/plain": [
              "['Time',\n",
              " 'Time [s]',\n",
              " 'Time [min]',\n",
              " 'Time [h]',\n",
              " 'x',\n",
              " 'x [m]',\n",
              " 'x_n',\n",
              " 'x_n [m]',\n",
              " 'x_s',\n",
              " 'x_s [m]',\n",
              " 'x_p',\n",
              " 'x_p [m]',\n",
              " 'r_n',\n",
              " 'r_n [m]',\n",
              " 'r_p',\n",
              " 'r_p [m]',\n",
              " 'Current density variable',\n",
              " 'Total current density',\n",
              " 'Total current density [A.m-2]',\n",
              " 'Current [A]',\n",
              " 'C-rate',\n",
              " 'Discharge capacity [A.h]',\n",
              " 'Discharge energy [W.h]',\n",
              " 'Throughput energy [W.h]',\n",
              " 'Throughput capacity [A.h]',\n",
              " 'Porosity',\n",
              " 'Negative electrode porosity',\n",
              " 'X-averaged negative electrode porosity',\n",
              " 'Separator porosity',\n",
              " 'X-averaged separator porosity',\n",
              " 'Positive electrode porosity',\n",
              " 'X-averaged positive electrode porosity',\n",
              " 'Porosity change',\n",
              " 'Negative electrode porosity change',\n",
              " 'X-averaged negative electrode porosity change',\n",
              " 'Separator porosity change',\n",
              " 'X-averaged separator porosity change',\n",
              " 'Positive electrode porosity change',\n",
              " 'X-averaged positive electrode porosity change',\n",
              " 'Negative electrode interface utilisation variable',\n",
              " 'X-averaged negative electrode interface utilisation variable',\n",
              " 'Negative electrode interface utilisation',\n",
              " 'X-averaged negative electrode interface utilisation',\n",
              " 'Positive electrode interface utilisation variable',\n",
              " 'X-averaged positive electrode interface utilisation variable',\n",
              " 'Positive electrode interface utilisation',\n",
              " 'X-averaged positive electrode interface utilisation',\n",
              " 'Negative particle crack length [m]',\n",
              " 'Negative particle crack length',\n",
              " 'X-averaged negative particle crack length',\n",
              " 'X-averaged negative particle crack length [m]',\n",
              " 'Negative particle cracking rate',\n",
              " 'X-averaged negative particle cracking rate',\n",
              " 'Positive particle crack length [m]',\n",
              " 'Positive particle crack length',\n",
              " 'X-averaged positive particle crack length',\n",
              " 'X-averaged positive particle crack length [m]',\n",
              " 'Positive particle cracking rate',\n",
              " 'X-averaged positive particle cracking rate',\n",
              " 'Negative electrode active material volume fraction',\n",
              " 'X-averaged negative electrode active material volume fraction',\n",
              " 'Negative electrode capacity [A.h]',\n",
              " 'Negative particle radius',\n",
              " 'Negative particle radius [m]',\n",
              " 'Negative electrode surface area to volume ratio',\n",
              " 'Negative electrode surface area to volume ratio [m-1]',\n",
              " 'X-averaged negative electrode surface area to volume ratio',\n",
              " 'X-averaged negative electrode surface area to volume ratio [m-1]',\n",
              " 'Negative electrode active material volume fraction change',\n",
              " 'X-averaged negative electrode active material volume fraction change',\n",
              " 'Loss of lithium due to loss of active material in negative electrode [mol]',\n",
              " 'Positive electrode active material volume fraction',\n",
              " 'X-averaged positive electrode active material volume fraction',\n",
              " 'Positive electrode capacity [A.h]',\n",
              " 'Positive particle radius',\n",
              " 'Positive particle radius [m]',\n",
              " 'Positive electrode surface area to volume ratio',\n",
              " 'Positive electrode surface area to volume ratio [m-1]',\n",
              " 'X-averaged positive electrode surface area to volume ratio',\n",
              " 'X-averaged positive electrode surface area to volume ratio [m-1]',\n",
              " 'Positive electrode active material volume fraction change',\n",
              " 'X-averaged positive electrode active material volume fraction change',\n",
              " 'Loss of lithium due to loss of active material in positive electrode [mol]',\n",
              " 'Separator pressure',\n",
              " 'X-averaged separator pressure',\n",
              " 'negative electrode transverse volume-averaged velocity',\n",
              " 'negative electrode transverse volume-averaged velocity [m.s-1]',\n",
              " 'X-averaged negative electrode transverse volume-averaged velocity',\n",
              " 'X-averaged negative electrode transverse volume-averaged velocity [m.s-1]',\n",
              " 'separator transverse volume-averaged velocity',\n",
              " 'separator transverse volume-averaged velocity [m.s-1]',\n",
              " 'X-averaged separator transverse volume-averaged velocity',\n",
              " 'X-averaged separator transverse volume-averaged velocity [m.s-1]',\n",
              " 'positive electrode transverse volume-averaged velocity',\n",
              " 'positive electrode transverse volume-averaged velocity [m.s-1]',\n",
              " 'X-averaged positive electrode transverse volume-averaged velocity',\n",
              " 'X-averaged positive electrode transverse volume-averaged velocity [m.s-1]',\n",
              " 'Transverse volume-averaged velocity',\n",
              " 'Transverse volume-averaged velocity [m.s-1]',\n",
              " 'negative electrode transverse volume-averaged acceleration',\n",
              " 'negative electrode transverse volume-averaged acceleration [m.s-2]',\n",
              " 'X-averaged negative electrode transverse volume-averaged acceleration',\n",
              " 'X-averaged negative electrode transverse volume-averaged acceleration [m.s-2]',\n",
              " 'separator transverse volume-averaged acceleration',\n",
              " 'separator transverse volume-averaged acceleration [m.s-2]',\n",
              " 'X-averaged separator transverse volume-averaged acceleration',\n",
              " 'X-averaged separator transverse volume-averaged acceleration [m.s-2]',\n",
              " 'positive electrode transverse volume-averaged acceleration',\n",
              " 'positive electrode transverse volume-averaged acceleration [m.s-2]',\n",
              " 'X-averaged positive electrode transverse volume-averaged acceleration',\n",
              " 'X-averaged positive electrode transverse volume-averaged acceleration [m.s-2]',\n",
              " 'Transverse volume-averaged acceleration',\n",
              " 'Transverse volume-averaged acceleration [m.s-2]',\n",
              " 'Negative electrode volume-averaged velocity',\n",
              " 'Negative electrode volume-averaged velocity [m.s-1]',\n",
              " 'Negative electrode volume-averaged acceleration',\n",
              " 'Negative electrode volume-averaged acceleration [m.s-1]',\n",
              " 'X-averaged negative electrode volume-averaged acceleration',\n",
              " 'X-averaged negative electrode volume-averaged acceleration [m.s-1]',\n",
              " 'Negative electrode pressure',\n",
              " 'X-averaged negative electrode pressure',\n",
              " 'Positive electrode volume-averaged velocity',\n",
              " 'Positive electrode volume-averaged velocity [m.s-1]',\n",
              " 'Positive electrode volume-averaged acceleration',\n",
              " 'Positive electrode volume-averaged acceleration [m.s-1]',\n",
              " 'X-averaged positive electrode volume-averaged acceleration',\n",
              " 'X-averaged positive electrode volume-averaged acceleration [m.s-1]',\n",
              " 'Positive electrode pressure',\n",
              " 'X-averaged positive electrode pressure',\n",
              " 'Negative particle concentration',\n",
              " 'Negative particle concentration [mol.m-3]',\n",
              " 'X-averaged negative particle concentration',\n",
              " 'X-averaged negative particle concentration [mol.m-3]',\n",
              " 'R-averaged negative particle concentration',\n",
              " 'R-averaged negative particle concentration [mol.m-3]',\n",
              " 'Average negative particle concentration',\n",
              " 'Average negative particle concentration [mol.m-3]',\n",
              " 'Negative particle surface concentration',\n",
              " 'Negative particle surface concentration [mol.m-3]',\n",
              " 'X-averaged negative particle surface concentration',\n",
              " 'X-averaged negative particle surface concentration [mol.m-3]',\n",
              " 'Negative electrode extent of lithiation',\n",
              " 'X-averaged negative electrode extent of lithiation',\n",
              " 'Minimum negative particle concentration',\n",
              " 'Maximum negative particle concentration',\n",
              " 'Minimum negative particle concentration [mol.m-3]',\n",
              " 'Maximum negative particle concentration [mol.m-3]',\n",
              " 'Minimum negative particle surface concentration',\n",
              " 'Maximum negative particle surface concentration',\n",
              " 'Minimum negative particle surface concentration [mol.m-3]',\n",
              " 'Maximum negative particle surface concentration [mol.m-3]',\n",
              " 'Positive particle concentration',\n",
              " 'Positive particle concentration [mol.m-3]',\n",
              " 'X-averaged positive particle concentration',\n",
              " 'X-averaged positive particle concentration [mol.m-3]',\n",
              " 'R-averaged positive particle concentration',\n",
              " 'R-averaged positive particle concentration [mol.m-3]',\n",
              " 'Average positive particle concentration',\n",
              " 'Average positive particle concentration [mol.m-3]',\n",
              " 'Positive particle surface concentration',\n",
              " 'Positive particle surface concentration [mol.m-3]',\n",
              " 'X-averaged positive particle surface concentration',\n",
              " 'X-averaged positive particle surface concentration [mol.m-3]',\n",
              " 'Positive electrode extent of lithiation',\n",
              " 'X-averaged positive electrode extent of lithiation',\n",
              " 'Minimum positive particle concentration',\n",
              " 'Maximum positive particle concentration',\n",
              " 'Minimum positive particle concentration [mol.m-3]',\n",
              " 'Maximum positive particle concentration [mol.m-3]',\n",
              " 'Minimum positive particle surface concentration',\n",
              " 'Maximum positive particle surface concentration',\n",
              " 'Minimum positive particle surface concentration [mol.m-3]',\n",
              " 'Maximum positive particle surface concentration [mol.m-3]',\n",
              " 'Negative electrode potential',\n",
              " 'Negative electrode potential [V]',\n",
              " 'X-averaged negative electrode potential',\n",
              " 'X-averaged negative electrode potential [V]',\n",
              " 'Negative electrode ohmic losses',\n",
              " 'Negative electrode ohmic losses [V]',\n",
              " 'X-averaged negative electrode ohmic losses',\n",
              " 'X-averaged negative electrode ohmic losses [V]',\n",
              " 'Gradient of negative electrode potential',\n",
              " 'Positive electrode potential',\n",
              " 'Positive electrode potential [V]',\n",
              " 'X-averaged positive electrode potential',\n",
              " 'X-averaged positive electrode potential [V]',\n",
              " 'Positive electrode ohmic losses',\n",
              " 'Positive electrode ohmic losses [V]',\n",
              " 'X-averaged positive electrode ohmic losses',\n",
              " 'X-averaged positive electrode ohmic losses [V]',\n",
              " 'Gradient of positive electrode potential',\n",
              " 'Porosity times concentration',\n",
              " 'Negative electrode porosity times concentration',\n",
              " 'Separator porosity times concentration',\n",
              " 'Positive electrode porosity times concentration',\n",
              " 'Total lithium in electrolyte',\n",
              " 'Total lithium in electrolyte [mol]',\n",
              " 'Electrolyte potential',\n",
              " 'Electrolyte potential [V]',\n",
              " 'X-averaged electrolyte potential',\n",
              " 'X-averaged electrolyte potential [V]',\n",
              " 'X-averaged electrolyte overpotential',\n",
              " 'X-averaged electrolyte overpotential [V]',\n",
              " 'Gradient of electrolyte potential',\n",
              " 'Negative electrolyte potential',\n",
              " 'Negative electrolyte potential [V]',\n",
              " 'X-averaged negative electrolyte potential',\n",
              " 'X-averaged negative electrolyte potential [V]',\n",
              " 'Gradient of negative electrolyte potential',\n",
              " 'Separator electrolyte potential',\n",
              " 'Separator electrolyte potential [V]',\n",
              " 'X-averaged separator electrolyte potential',\n",
              " 'X-averaged separator electrolyte potential [V]',\n",
              " 'Gradient of separator electrolyte potential',\n",
              " 'Positive electrolyte potential',\n",
              " 'Positive electrolyte potential [V]',\n",
              " 'X-averaged positive electrolyte potential',\n",
              " 'X-averaged positive electrolyte potential [V]',\n",
              " 'Gradient of positive electrolyte potential',\n",
              " 'Ambient temperature',\n",
              " 'Cell temperature',\n",
              " 'Negative current collector temperature',\n",
              " 'Positive current collector temperature',\n",
              " 'X-averaged cell temperature',\n",
              " 'Volume-averaged cell temperature',\n",
              " 'Negative electrode temperature',\n",
              " 'X-averaged negative electrode temperature',\n",
              " 'Separator temperature',\n",
              " 'X-averaged separator temperature',\n",
              " 'Positive electrode temperature',\n",
              " 'X-averaged positive electrode temperature',\n",
              " 'Ambient temperature [K]',\n",
              " 'Ambient temperature [C]',\n",
              " 'Cell temperature [K]',\n",
              " 'Cell temperature [C]',\n",
              " 'Negative current collector temperature [K]',\n",
              " 'Negative current collector temperature [C]',\n",
              " 'Positive current collector temperature [K]',\n",
              " 'Positive current collector temperature [C]',\n",
              " 'X-averaged cell temperature [K]',\n",
              " 'X-averaged cell temperature [C]',\n",
              " 'Volume-averaged cell temperature [K]',\n",
              " 'Volume-averaged cell temperature [C]',\n",
              " 'Negative electrode temperature [K]',\n",
              " 'Negative electrode temperature [C]',\n",
              " 'X-averaged negative electrode temperature [K]',\n",
              " 'X-averaged negative electrode temperature [C]',\n",
              " 'Separator temperature [K]',\n",
              " 'Separator temperature [C]',\n",
              " 'X-averaged separator temperature [K]',\n",
              " 'X-averaged separator temperature [C]',\n",
              " 'Positive electrode temperature [K]',\n",
              " 'Positive electrode temperature [C]',\n",
              " 'X-averaged positive electrode temperature [K]',\n",
              " 'X-averaged positive electrode temperature [C]',\n",
              " 'Negative current collector potential',\n",
              " 'Negative current collector potential [V]',\n",
              " 'Inner SEI thickness',\n",
              " 'Inner SEI thickness [m]',\n",
              " 'Outer SEI thickness',\n",
              " 'Outer SEI thickness [m]',\n",
              " 'X-averaged inner SEI thickness',\n",
              " 'X-averaged inner SEI thickness [m]',\n",
              " 'X-averaged outer SEI thickness',\n",
              " 'X-averaged outer SEI thickness [m]',\n",
              " 'SEI thickness',\n",
              " 'SEI [m]',\n",
              " 'Total SEI thickness',\n",
              " 'Total SEI thickness [m]',\n",
              " 'X-averaged SEI thickness',\n",
              " 'X-averaged SEI thickness [m]',\n",
              " 'X-averaged total SEI thickness',\n",
              " 'X-averaged total SEI thickness [m]',\n",
              " 'X-averaged negative electrode resistance [Ohm.m2]',\n",
              " 'Inner SEI interfacial current density',\n",
              " 'Inner SEI interfacial current density [A.m-2]',\n",
              " 'X-averaged inner SEI interfacial current density',\n",
              " 'X-averaged inner SEI interfacial current density [A.m-2]',\n",
              " 'Outer SEI interfacial current density',\n",
              " 'Outer SEI interfacial current density [A.m-2]',\n",
              " 'X-averaged outer SEI interfacial current density',\n",
              " 'X-averaged outer SEI interfacial current density [A.m-2]',\n",
              " 'SEI interfacial current density',\n",
              " 'SEI interfacial current density [A.m-2]',\n",
              " 'X-averaged SEI interfacial current density',\n",
              " 'X-averaged SEI interfacial current density [A.m-2]',\n",
              " 'Inner SEI on cracks thickness',\n",
              " 'Inner SEI on cracks thickness [m]',\n",
              " 'Outer SEI on cracks thickness',\n",
              " 'Outer SEI on cracks thickness [m]',\n",
              " 'X-averaged inner SEI on cracks thickness',\n",
              " 'X-averaged inner SEI on cracks thickness [m]',\n",
              " 'X-averaged outer SEI on cracks thickness',\n",
              " 'X-averaged outer SEI on cracks thickness [m]',\n",
              " 'SEI on cracks thickness',\n",
              " 'SEI on cracks [m]',\n",
              " 'Total SEI on cracks thickness',\n",
              " 'Total SEI on cracks thickness [m]',\n",
              " 'X-averaged SEI on cracks thickness',\n",
              " 'X-averaged SEI on cracks thickness [m]',\n",
              " 'X-averaged total SEI on cracks thickness',\n",
              " 'X-averaged total SEI on cracks thickness [m]',\n",
              " 'Inner SEI on cracks interfacial current density',\n",
              " 'Inner SEI on cracks interfacial current density [A.m-2]',\n",
              " 'X-averaged inner SEI on cracks interfacial current density',\n",
              " 'X-averaged inner SEI on cracks interfacial current density [A.m-2]',\n",
              " 'Outer SEI on cracks interfacial current density',\n",
              " 'Outer SEI on cracks interfacial current density [A.m-2]',\n",
              " 'X-averaged outer SEI on cracks interfacial current density',\n",
              " 'X-averaged outer SEI on cracks interfacial current density [A.m-2]',\n",
              " 'SEI on cracks interfacial current density',\n",
              " 'SEI on cracks interfacial current density [A.m-2]',\n",
              " 'X-averaged SEI on cracks interfacial current density',\n",
              " 'X-averaged SEI on cracks interfacial current density [A.m-2]',\n",
              " 'Lithium plating concentration',\n",
              " 'Lithium plating concentration [mol.m-3]',\n",
              " 'X-averaged lithium plating concentration',\n",
              " 'X-averaged lithium plating concentration [mol.m-3]',\n",
              " 'Dead lithium concentration',\n",
              " 'Dead lithium concentration [mol.m-3]',\n",
              " 'X-averaged dead lithium concentration',\n",
              " 'X-averaged dead lithium concentration [mol.m-3]',\n",
              " 'Lithium plating thickness',\n",
              " 'Lithium plating thickness [m]',\n",
              " 'X-averaged lithium plating thickness [m]',\n",
              " 'Dead lithium thickness',\n",
              " 'Dead lithium thickness [m]',\n",
              " 'X-averaged dead lithium thickness [m]',\n",
              " 'Loss of lithium to lithium plating [mol]',\n",
              " 'Loss of capacity to lithium plating [A.h]',\n",
              " 'Negative electrode lithium plating reaction overpotential',\n",
              " 'X-averaged negative electrode lithium plating reaction overpotential',\n",
              " 'Negative electrode lithium plating reaction overpotential [V]',\n",
              " 'X-averaged negative electrode lithium plating reaction overpotential [V]',\n",
              " 'Lithium plating interfacial current density',\n",
              " 'Lithium plating interfacial current density [A.m-2]',\n",
              " 'X-averaged lithium plating interfacial current density',\n",
              " 'X-averaged lithium plating interfacial current density [A.m-2]',\n",
              " 'Negative crack surface to volume ratio [m-1]',\n",
              " 'Negative crack surface to volume ratio',\n",
              " 'Negative electrode roughness ratio',\n",
              " 'X-averaged negative electrode roughness ratio',\n",
              " 'Positive crack surface to volume ratio [m-1]',\n",
              " 'Positive crack surface to volume ratio',\n",
              " 'Positive electrode roughness ratio',\n",
              " 'X-averaged positive electrode roughness ratio',\n",
              " 'Electrolyte transport efficiency',\n",
              " 'Negative electrolyte transport efficiency',\n",
              " 'X-averaged negative electrolyte transport efficiency',\n",
              " 'Separator electrolyte transport efficiency',\n",
              " 'X-averaged separator electrolyte transport efficiency',\n",
              " 'Positive electrolyte transport efficiency',\n",
              " 'X-averaged positive electrolyte transport efficiency',\n",
              " 'Electrode transport efficiency',\n",
              " 'Negative electrode transport efficiency',\n",
              " 'X-averaged negative electrode transport efficiency',\n",
              " 'Separator electrode transport efficiency',\n",
              " 'X-averaged separator electrode transport efficiency',\n",
              " 'Positive electrode transport efficiency',\n",
              " 'X-averaged positive electrode transport efficiency',\n",
              " 'Separator volume-averaged velocity',\n",
              " 'Separator volume-averaged velocity [m.s-1]',\n",
              " 'Separator volume-averaged acceleration',\n",
              " 'Separator volume-averaged acceleration [m.s-1]',\n",
              " 'X-averaged separator volume-averaged acceleration',\n",
              " 'X-averaged separator volume-averaged acceleration [m.s-1]',\n",
              " 'Volume-averaged velocity',\n",
              " 'Volume-averaged velocity [m.s-1]',\n",
              " 'Volume-averaged acceleration',\n",
              " 'X-averaged volume-averaged acceleration',\n",
              " 'Volume-averaged acceleration [m.s-1]',\n",
              " 'X-averaged volume-averaged acceleration [m.s-1]',\n",
              " 'Pressure',\n",
              " 'Negative electrode open circuit potential',\n",
              " 'Negative electrode open circuit potential [V]',\n",
              " 'X-averaged negative electrode open circuit potential',\n",
              " 'X-averaged negative electrode open circuit potential [V]',\n",
              " 'Negative electrode entropic change',\n",
              " 'Negative electrode entropic change [V.K-1]',\n",
              " 'X-averaged negative electrode entropic change',\n",
              " 'X-averaged negative electrode entropic change [V.K-1]',\n",
              " 'Positive electrode open circuit potential',\n",
              " 'Positive electrode open circuit potential [V]',\n",
              " 'X-averaged positive electrode open circuit potential',\n",
              " 'X-averaged positive electrode open circuit potential [V]',\n",
              " 'Positive electrode entropic change',\n",
              " 'Positive electrode entropic change [V.K-1]',\n",
              " 'X-averaged positive electrode entropic change',\n",
              " 'X-averaged positive electrode entropic change [V.K-1]',\n",
              " 'Negative electrode effective conductivity',\n",
              " 'Negative electrode current density',\n",
              " 'Negative electrode current density [A.m-2]',\n",
              " 'Positive electrode effective conductivity',\n",
              " 'Positive electrode current density',\n",
              " 'Positive electrode current density [A.m-2]',\n",
              " 'Electrode current density',\n",
              " 'Positive current collector potential',\n",
              " 'Positive current collector potential [V]',\n",
              " 'Local voltage',\n",
              " 'Local voltage [V]',\n",
              " 'Contact overpotential',\n",
              " 'Contact overpotential [V]',\n",
              " 'Terminal voltage',\n",
              " 'Terminal voltage [V]',\n",
              " 'Electrolyte concentration concatenation',\n",
              " 'Negative electrolyte concentration',\n",
              " 'X-averaged negative electrolyte concentration',\n",
              " 'Separator electrolyte concentration',\n",
              " 'X-averaged separator electrolyte concentration',\n",
              " 'Positive electrolyte concentration',\n",
              " 'X-averaged positive electrolyte concentration',\n",
              " 'Negative electrolyte concentration [mol.m-3]',\n",
              " 'Negative electrolyte concentration [Molar]',\n",
              " 'X-averaged negative electrolyte concentration [mol.m-3]',\n",
              " 'X-averaged negative electrolyte concentration [Molar]',\n",
              " 'Separator electrolyte concentration [mol.m-3]',\n",
              " 'Separator electrolyte concentration [Molar]',\n",
              " 'X-averaged separator electrolyte concentration [mol.m-3]',\n",
              " 'X-averaged separator electrolyte concentration [Molar]',\n",
              " 'Positive electrolyte concentration [mol.m-3]',\n",
              " 'Positive electrolyte concentration [Molar]',\n",
              " 'X-averaged positive electrolyte concentration [mol.m-3]',\n",
              " 'X-averaged positive electrolyte concentration [Molar]',\n",
              " 'Electrolyte concentration',\n",
              " 'X-averaged electrolyte concentration',\n",
              " 'Electrolyte concentration [mol.m-3]',\n",
              " 'Electrolyte concentration [Molar]',\n",
              " 'X-averaged electrolyte concentration [mol.m-3]',\n",
              " 'X-averaged electrolyte concentration [Molar]',\n",
              " 'Electrolyte current density',\n",
              " 'Electrolyte current density [A.m-2]',\n",
              " 'X-averaged concentration overpotential',\n",
              " 'X-averaged electrolyte ohmic losses',\n",
              " 'X-averaged concentration overpotential [V]',\n",
              " 'X-averaged electrolyte ohmic losses [V]',\n",
              " 'Negative electrode surface potential difference',\n",
              " 'Negative electrode surface potential difference [V]',\n",
              " 'X-averaged negative electrode surface potential difference',\n",
              " 'X-averaged negative electrode surface potential difference [V]',\n",
              " 'Positive electrode surface potential difference',\n",
              " 'Positive electrode surface potential difference [V]',\n",
              " 'X-averaged positive electrode surface potential difference',\n",
              " 'X-averaged positive electrode surface potential difference [V]',\n",
              " 'Ohmic heating',\n",
              " 'Ohmic heating [W.m-3]',\n",
              " 'X-averaged Ohmic heating',\n",
              " 'X-averaged Ohmic heating [W.m-3]',\n",
              " 'Volume-averaged Ohmic heating',\n",
              " 'Volume-averaged Ohmic heating [W.m-3]',\n",
              " 'Irreversible electrochemical heating',\n",
              " 'Irreversible electrochemical heating [W.m-3]',\n",
              " 'X-averaged irreversible electrochemical heating',\n",
              " 'X-averaged irreversible electrochemical heating [W.m-3]',\n",
              " 'Volume-averaged irreversible electrochemical heating',\n",
              " 'Volume-averaged irreversible electrochemical heating [W.m-3]',\n",
              " 'Reversible heating',\n",
              " 'Reversible heating [W.m-3]',\n",
              " 'X-averaged reversible heating',\n",
              " 'X-averaged reversible heating [W.m-3]',\n",
              " 'Volume-averaged reversible heating',\n",
              " 'Volume-averaged reversible heating [W.m-3]',\n",
              " 'Total heating',\n",
              " 'Total heating [W.m-3]',\n",
              " 'X-averaged total heating',\n",
              " 'X-averaged total heating [W.m-3]',\n",
              " 'Volume-averaged total heating',\n",
              " 'Volume-averaged total heating [W.m-3]',\n",
              " 'Current collector current density',\n",
              " 'Current collector current density [A.m-2]',\n",
              " 'Inner SEI concentration [mol.m-3]',\n",
              " 'X-averaged inner SEI concentration [mol.m-3]',\n",
              " 'Outer SEI concentration [mol.m-3]',\n",
              " 'X-averaged outer SEI concentration [mol.m-3]',\n",
              " 'SEI concentration [mol.m-3]',\n",
              " 'X-averaged SEI concentration [mol.m-3]',\n",
              " 'Loss of lithium to SEI [mol]',\n",
              " 'Loss of capacity to SEI [A.h]',\n",
              " 'X-averaged negative electrode SEI interfacial current density',\n",
              " 'Negative electrode SEI interfacial current density',\n",
              " 'Negative electrode SEI interfacial current density [A.m-2]',\n",
              " 'Negative electrode SEI volumetric interfacial current density',\n",
              " 'X-averaged negative electrode SEI volumetric interfacial current density',\n",
              " 'Negative electrode SEI volumetric interfacial current density [A.m-3]',\n",
              " 'X-averaged negative electrode SEI volumetric interfacial current density [A.m-3]',\n",
              " 'X-averaged positive electrode SEI interfacial current density',\n",
              " 'Positive electrode SEI interfacial current density',\n",
              " 'Positive electrode SEI interfacial current density [A.m-2]',\n",
              " 'X-averaged positive electrode SEI volumetric interfacial current density',\n",
              " 'Positive electrode SEI volumetric interfacial current density',\n",
              " 'Inner SEI on cracks concentration [mol.m-3]',\n",
              " 'X-averaged inner SEI on cracks concentration [mol.m-3]',\n",
              " 'Outer SEI on cracks concentration [mol.m-3]',\n",
              " 'X-averaged outer SEI on cracks concentration [mol.m-3]',\n",
              " 'SEI on cracks concentration [mol.m-3]',\n",
              " 'X-averaged SEI on cracks concentration [mol.m-3]',\n",
              " 'Loss of lithium to SEI on cracks [mol]',\n",
              " 'Loss of capacity to SEI on cracks [A.h]',\n",
              " 'X-averaged negative electrode SEI on cracks interfacial current density',\n",
              " 'Negative electrode SEI on cracks interfacial current density',\n",
              " 'Negative electrode SEI on cracks interfacial current density [A.m-2]',\n",
              " 'Negative electrode SEI on cracks volumetric interfacial current density',\n",
              " 'X-averaged negative electrode SEI on cracks volumetric interfacial current density',\n",
              " 'Negative electrode SEI on cracks volumetric interfacial current density [A.m-3]',\n",
              " 'X-averaged negative electrode SEI on cracks volumetric interfacial current density [A.m-3]',\n",
              " 'X-averaged positive electrode SEI on cracks interfacial current density',\n",
              " 'Positive electrode SEI on cracks interfacial current density',\n",
              " 'Positive electrode SEI on cracks interfacial current density [A.m-2]',\n",
              " 'X-averaged positive electrode SEI on cracks volumetric interfacial current density',\n",
              " 'Positive electrode SEI on cracks volumetric interfacial current density',\n",
              " 'X-averaged negative electrode lithium plating interfacial current density',\n",
              " 'X-averaged positive electrode lithium plating interfacial current density',\n",
              " 'X-averaged positive electrode lithium plating volumetric interfacial current density',\n",
              " 'Negative electrode lithium plating interfacial current density',\n",
              " 'Negative electrode lithium plating interfacial current density [A.m-2]',\n",
              " 'Positive electrode lithium plating interfacial current density',\n",
              " 'Positive electrode lithium plating interfacial current density [A.m-2]',\n",
              " 'Positive electrode lithium plating volumetric interfacial current density',\n",
              " 'Negative electrode lithium plating volumetric interfacial current density',\n",
              " 'X-averaged negative electrode lithium plating volumetric interfacial current density',\n",
              " 'Negative electrode lithium plating volumetric interfacial current density [A.m-3]',\n",
              " 'X-averaged negative electrode lithium plating volumetric interfacial current density [A.m-3]',\n",
              " 'Negative electrode interfacial current density',\n",
              " 'X-averaged negative electrode interfacial current density',\n",
              " 'Negative electrode interfacial current density [A.m-2]',\n",
              " 'X-averaged negative electrode interfacial current density [A.m-2]',\n",
              " 'X-averaged negative electrode total interfacial current density',\n",
              " 'X-averaged negative electrode total interfacial current density [A.m-2]',\n",
              " 'X-averaged negative electrode total volumetric interfacial current density',\n",
              " 'X-averaged negative electrode total volumetric interfacial current density [A.m-3]',\n",
              " 'Negative electrode exchange current density',\n",
              " 'X-averaged negative electrode exchange current density',\n",
              " 'Negative electrode exchange current density [A.m-2]',\n",
              " 'X-averaged negative electrode exchange current density [A.m-2]',\n",
              " 'Negative electrode reaction overpotential',\n",
              " 'X-averaged negative electrode reaction overpotential',\n",
              " 'Negative electrode reaction overpotential [V]',\n",
              " 'X-averaged negative electrode reaction overpotential [V]',\n",
              " 'Negative electrode volumetric interfacial current density',\n",
              " 'X-averaged negative electrode volumetric interfacial current density',\n",
              " 'Negative electrode volumetric interfacial current density [A.m-3]',\n",
              " 'X-averaged negative electrode volumetric interfacial current density [A.m-3]',\n",
              " 'SEI film overpotential',\n",
              " 'X-averaged SEI film overpotential',\n",
              " 'SEI film overpotential [V]',\n",
              " 'X-averaged SEI film overpotential [V]',\n",
              " 'Positive electrode interfacial current density',\n",
              " 'X-averaged positive electrode interfacial current density',\n",
              " 'Positive electrode interfacial current density [A.m-2]',\n",
              " 'X-averaged positive electrode interfacial current density [A.m-2]',\n",
              " 'X-averaged positive electrode total interfacial current density',\n",
              " 'X-averaged positive electrode total interfacial current density [A.m-2]',\n",
              " 'X-averaged positive electrode total volumetric interfacial current density',\n",
              " 'X-averaged positive electrode total volumetric interfacial current density [A.m-3]',\n",
              " 'Positive electrode exchange current density',\n",
              " 'X-averaged positive electrode exchange current density',\n",
              " 'Positive electrode exchange current density [A.m-2]',\n",
              " 'X-averaged positive electrode exchange current density [A.m-2]',\n",
              " 'Positive electrode reaction overpotential',\n",
              " 'X-averaged positive electrode reaction overpotential',\n",
              " 'Positive electrode reaction overpotential [V]',\n",
              " 'X-averaged positive electrode reaction overpotential [V]',\n",
              " 'Positive electrode volumetric interfacial current density',\n",
              " 'X-averaged positive electrode volumetric interfacial current density',\n",
              " 'Positive electrode volumetric interfacial current density [A.m-3]',\n",
              " 'X-averaged positive electrode volumetric interfacial current density [A.m-3]',\n",
              " 'Negative particle rhs',\n",
              " 'Negative particle bc',\n",
              " 'Negative particle effective diffusivity',\n",
              " 'Negative particle effective diffusivity [m2.s-1]',\n",
              " 'X-averaged negative particle effective diffusivity',\n",
              " 'X-averaged negative particle effective diffusivity [m2.s-1]',\n",
              " 'Negative particle flux',\n",
              " 'Negative electrode stoichiometry',\n",
              " 'Negative electrode volume-averaged concentration',\n",
              " 'Negative electrode volume-averaged concentration [mol.m-3]',\n",
              " 'Total lithium in primary phase in negative electrode [mol]',\n",
              " 'Positive particle rhs',\n",
              " 'Positive particle bc',\n",
              " 'Positive particle effective diffusivity',\n",
              " 'Positive particle effective diffusivity [m2.s-1]',\n",
              " 'X-averaged positive particle effective diffusivity',\n",
              " 'X-averaged positive particle effective diffusivity [m2.s-1]',\n",
              " 'Positive particle flux',\n",
              " 'Positive electrode stoichiometry',\n",
              " 'Positive electrode volume-averaged concentration',\n",
              " 'Positive electrode volume-averaged concentration [mol.m-3]',\n",
              " 'Total lithium in primary phase in positive electrode [mol]',\n",
              " 'Electrolyte flux',\n",
              " 'Electrolyte flux [mol.m-2.s-1]',\n",
              " 'Electrolyte diffusion flux',\n",
              " 'Electrolyte migration flux',\n",
              " 'Electrolyte convection flux',\n",
              " 'Sum of negative electrode electrolyte reaction source terms',\n",
              " 'Sum of x-averaged negative electrode electrolyte reaction source terms',\n",
              " 'Sum of negative electrode volumetric interfacial current densities',\n",
              " 'Sum of x-averaged negative electrode volumetric interfacial current densities',\n",
              " 'Sum of positive electrode electrolyte reaction source terms',\n",
              " 'Sum of x-averaged positive electrode electrolyte reaction source terms',\n",
              " 'Sum of positive electrode volumetric interfacial current densities',\n",
              " 'Sum of x-averaged positive electrode volumetric interfacial current densities',\n",
              " 'Interfacial current density',\n",
              " 'Interfacial current density [A.m-2]',\n",
              " 'Exchange current density',\n",
              " 'Exchange current density [A.m-2]',\n",
              " 'Sum of volumetric interfacial current densities',\n",
              " 'Sum of electrolyte reaction source terms',\n",
              " 'X-averaged open circuit voltage',\n",
              " 'Measured open circuit voltage',\n",
              " 'X-averaged open circuit voltage [V]',\n",
              " 'Measured open circuit voltage [V]',\n",
              " 'X-averaged reaction overpotential',\n",
              " 'X-averaged reaction overpotential [V]',\n",
              " 'X-averaged solid phase ohmic losses',\n",
              " 'X-averaged solid phase ohmic losses [V]',\n",
              " 'X-averaged battery open circuit voltage [V]',\n",
              " 'Measured battery open circuit voltage [V]',\n",
              " 'X-averaged battery reaction overpotential [V]',\n",
              " 'X-averaged battery solid phase ohmic losses [V]',\n",
              " 'X-averaged battery electrolyte ohmic losses [V]',\n",
              " 'X-averaged battery concentration overpotential [V]',\n",
              " 'Battery voltage [V]',\n",
              " 'Change in measured open circuit voltage',\n",
              " 'Change in measured open circuit voltage [V]',\n",
              " 'Local ECM resistance',\n",
              " 'Local ECM resistance [Ohm]',\n",
              " 'Terminal power [W]',\n",
              " 'Power [W]',\n",
              " 'Resistance [Ohm]',\n",
              " 'Total lithium in negative electrode [mol]',\n",
              " 'LAM_ne [%]',\n",
              " 'Loss of active material in negative electrode [%]',\n",
              " 'Total lithium in positive electrode [mol]',\n",
              " 'LAM_pe [%]',\n",
              " 'Loss of active material in positive electrode [%]',\n",
              " 'LLI [%]',\n",
              " 'Loss of lithium inventory [%]',\n",
              " 'Loss of lithium inventory, including electrolyte [%]',\n",
              " 'Total lithium [mol]',\n",
              " 'Total lithium in particles [mol]',\n",
              " 'Total lithium capacity [A.h]',\n",
              " 'Total lithium capacity in particles [A.h]',\n",
              " 'Total lithium lost [mol]',\n",
              " 'Total lithium lost from particles [mol]',\n",
              " 'Total lithium lost from electrolyte [mol]',\n",
              " 'Total lithium lost to side reactions [mol]',\n",
              " 'Total capacity lost to side reactions [A.h]']"
            ]
          },
          "metadata": {},
          "execution_count": 50
        }
      ],
      "source": [
        "model_dfn.variable_names()"
      ]
    },
    {
      "cell_type": "markdown",
      "metadata": {
        "id": "H9vbUVxmgHFR"
      },
      "source": [
        "There are a _lot_ of variables. You can also search the list of variables for a particular string (e.g. \"electrolyte\")"
      ]
    },
    {
      "cell_type": "code",
      "execution_count": null,
      "metadata": {
        "id": "vSRPJ1NIgHFR",
        "outputId": "340dc6ac-c500-4e88-c691-ad491ecaebab",
        "colab": {
          "base_uri": "https://localhost:8080/"
        }
      },
      "outputs": [
        {
          "output_type": "stream",
          "name": "stdout",
          "text": [
            "Electrolyte concentration\n",
            "Electrolyte concentration [Molar]\n",
            "Electrolyte concentration [mol.m-3]\n",
            "Electrolyte concentration concatenation\n",
            "Electrolyte convection flux\n",
            "Electrolyte current density\n",
            "Electrolyte current density [A.m-2]\n",
            "Electrolyte diffusion flux\n",
            "Electrolyte flux\n",
            "Electrolyte flux [mol.m-2.s-1]\n",
            "Electrolyte migration flux\n",
            "Electrolyte potential\n",
            "Electrolyte potential [V]\n",
            "Electrolyte transport efficiency\n",
            "Gradient of electrolyte potential\n",
            "Gradient of negative electrolyte potential\n",
            "Gradient of positive electrolyte potential\n",
            "Gradient of separator electrolyte potential\n",
            "Loss of lithium inventory, including electrolyte [%]\n",
            "Negative electrolyte concentration\n",
            "Negative electrolyte concentration [Molar]\n",
            "Negative electrolyte concentration [mol.m-3]\n",
            "Negative electrolyte potential\n",
            "Negative electrolyte potential [V]\n",
            "Negative electrolyte transport efficiency\n",
            "Positive electrolyte concentration\n",
            "Positive electrolyte concentration [Molar]\n",
            "Positive electrolyte concentration [mol.m-3]\n",
            "Positive electrolyte potential\n",
            "Positive electrolyte potential [V]\n",
            "Positive electrolyte transport efficiency\n",
            "Separator electrolyte concentration\n",
            "Separator electrolyte concentration [Molar]\n",
            "Separator electrolyte concentration [mol.m-3]\n",
            "Separator electrolyte potential\n",
            "Separator electrolyte potential [V]\n",
            "Separator electrolyte transport efficiency\n",
            "Sum of electrolyte reaction source terms\n",
            "Sum of negative electrode electrolyte reaction source terms\n",
            "Sum of positive electrode electrolyte reaction source terms\n",
            "Sum of x-averaged negative electrode electrolyte reaction source terms\n",
            "Sum of x-averaged positive electrode electrolyte reaction source terms\n",
            "Total lithium in electrolyte\n",
            "Total lithium in electrolyte [mol]\n",
            "Total lithium lost from electrolyte [mol]\n",
            "X-averaged battery electrolyte ohmic losses [V]\n",
            "X-averaged electrolyte concentration\n",
            "X-averaged electrolyte concentration [Molar]\n",
            "X-averaged electrolyte concentration [mol.m-3]\n",
            "X-averaged electrolyte ohmic losses\n",
            "X-averaged electrolyte ohmic losses [V]\n",
            "X-averaged electrolyte overpotential\n",
            "X-averaged electrolyte overpotential [V]\n",
            "X-averaged electrolyte potential\n",
            "X-averaged electrolyte potential [V]\n",
            "X-averaged negative electrolyte concentration\n",
            "X-averaged negative electrolyte concentration [Molar]\n",
            "X-averaged negative electrolyte concentration [mol.m-3]\n",
            "X-averaged negative electrolyte potential\n",
            "X-averaged negative electrolyte potential [V]\n",
            "X-averaged negative electrolyte transport efficiency\n",
            "X-averaged positive electrolyte concentration\n",
            "X-averaged positive electrolyte concentration [Molar]\n",
            "X-averaged positive electrolyte concentration [mol.m-3]\n",
            "X-averaged positive electrolyte potential\n",
            "X-averaged positive electrolyte potential [V]\n",
            "X-averaged positive electrolyte transport efficiency\n",
            "X-averaged separator electrolyte concentration\n",
            "X-averaged separator electrolyte concentration [Molar]\n",
            "X-averaged separator electrolyte concentration [mol.m-3]\n",
            "X-averaged separator electrolyte potential\n",
            "X-averaged separator electrolyte potential [V]\n",
            "X-averaged separator electrolyte transport efficiency\n"
          ]
        }
      ],
      "source": [
        "model_dfn.variables.search(\"electrolyte\")"
      ]
    },
    {
      "cell_type": "markdown",
      "metadata": {
        "id": "sHbNjviZgHFS"
      },
      "source": [
        "We have tried to make variables names fairly self explanatory. However, there are two variables for most quantities. This is because PyBaMM utilises both dimensionless and dimensional variables for these quantities. As a rule, the dimensionless variables have no units in their name and the dimensional variables have units in their name. If in doubt, we recommend using the dimensional variable with units."
      ]
    },
    {
      "cell_type": "markdown",
      "metadata": {
        "id": "IC2QjnO6gHFS"
      },
      "source": [
        "As a first example, we choose to plot the terminal voltage. We add this to a list and then pass this list to the `plot` method of our simulation:"
      ]
    },
    {
      "cell_type": "code",
      "execution_count": null,
      "metadata": {
        "id": "B4eMjDo8gHFS",
        "outputId": "0ae0e39e-5b9f-4f1f-ec46-749552e8e2fb",
        "colab": {
          "referenced_widgets": [
            "7adac0a9ad96440a9af6c8b23f20fd14",
            "95e1b2b89a2a4c73b5aaec98c5deb585",
            "68ad638908624b68bedf89293f0441a4",
            "a319fe08a3c3473a83dc886121d90d9f",
            "d7ef0fadc49e469fb75b0dc131b1ab2f",
            "f16de521a8624256b9ca4c16fb8481db",
            "26225c675fcd47c38e7931fa9d52e532"
          ],
          "base_uri": "https://localhost:8080/",
          "height": 346
        }
      },
      "outputs": [
        {
          "output_type": "display_data",
          "data": {
            "text/plain": [
              "interactive(children=(FloatSlider(value=0.0, description='t', max=3555.450397628192, step=35.55450397628192), …"
            ],
            "application/vnd.jupyter.widget-view+json": {
              "version_major": 2,
              "version_minor": 0,
              "model_id": "7adac0a9ad96440a9af6c8b23f20fd14"
            }
          },
          "metadata": {}
        },
        {
          "output_type": "execute_result",
          "data": {
            "text/plain": [
              "<pybamm.plotting.quick_plot.QuickPlot at 0x7fbeaf227340>"
            ]
          },
          "metadata": {},
          "execution_count": 51
        }
      ],
      "source": [
        "output_variables = [\"Terminal voltage [V]\"]\n",
        "sim_dfn.plot(output_variables=output_variables)"
      ]
    },
    {
      "cell_type": "markdown",
      "metadata": {
        "id": "T4ULLKtfgHFT"
      },
      "source": [
        "Alternatively, we may be interested in plotting both the electrolyte concentration and the terminal voltage. In which case, we would do:"
      ]
    },
    {
      "cell_type": "code",
      "execution_count": null,
      "metadata": {
        "id": "JWvTe_XsgHFT",
        "outputId": "0dbdcddc-2a12-4255-a186-98ab148fa468",
        "colab": {
          "referenced_widgets": [
            "541fd6fbb8bd48c798ed21964866fc40",
            "3620d10b6c3e40bebe798c17685399f4",
            "b91268c97d0d440792e23d2a3b08a4d8",
            "cee0ce0ca4e34ec782c5d4abd90bf7af",
            "ab3476ad2ae04a1c948c7e4d6c5038eb",
            "4d5cf37bea4b4a2499f127eb04d3bf1f",
            "f2b1399246874c6e84b2e2e83b13d5b1"
          ],
          "base_uri": "https://localhost:8080/",
          "height": 562
        }
      },
      "outputs": [
        {
          "output_type": "display_data",
          "data": {
            "text/plain": [
              "interactive(children=(FloatSlider(value=0.0, description='t', max=6.150444060068563, step=0.06150444060068563)…"
            ],
            "application/vnd.jupyter.widget-view+json": {
              "version_major": 2,
              "version_minor": 0,
              "model_id": "541fd6fbb8bd48c798ed21964866fc40"
            }
          },
          "metadata": {}
        },
        {
          "output_type": "execute_result",
          "data": {
            "text/plain": [
              "<pybamm.plotting.quick_plot.QuickPlot at 0x7fbeb2c2d0a0>"
            ]
          },
          "metadata": {},
          "execution_count": 45
        }
      ],
      "source": [
        "experiment = pybamm.Experiment(\n",
        "    [\n",
        "        (\"Discharge at 2C for 1 hours or until 2.8 V\",\n",
        "        \"Rest for 0.5 hour\",\n",
        "        \"Charge at 5 A until 4.1 V\",\n",
        "        \"Hold at 4.1 V until 250 mA\",\n",
        "        \"Rest for 0.5 hour\")\n",
        "    ]\n",
        "    * 2,\n",
        ")\n",
        "\n",
        "model = pybamm.lithium_ion.DFN()\n",
        "sim_dfn = pybamm.Simulation(model,parameter_values=parameter_values, experiment=experiment, solver=pybamm.CasadiSolver())\n",
        "sim_dfn.solve()\n",
        "#sim_dfn.plot()\n",
        "\n",
        "output_variables = ['Negative electrode potential [V]',\"Electrolyte concentration [mol.m-3]\",'Positive electrode potential [V]','Exchange current density [A.m-2]','Negative particle concentration', \"Electrolyte potential [V]\",'Positive particle concentration',\"Terminal voltage [V]\"]\n",
        "sim_dfn.plot(output_variables=output_variables)"
      ]
    },
    {
      "cell_type": "markdown",
      "metadata": {
        "id": "r4tZsNA7gHFT"
      },
      "source": [
        "You can also plot multiple variables on the same plot by nesting lists"
      ]
    },
    {
      "cell_type": "code",
      "execution_count": null,
      "metadata": {
        "id": "aq6L9Xa1gHFU",
        "outputId": "c7c9809d-abde-4a8b-a75f-000dd63cebb0",
        "colab": {
          "referenced_widgets": [
            "7bb6e11c155441a1bce9c8dc5afaa9d5",
            "dbd2f738e45b4b7b8a73ceb7e89a377d",
            "545f49fd26704b78becef02fea9eb28b",
            "e638d7f76b684718a26f4d76ab167dbd",
            "af514aa4164b42399dc63cdd30ebebde",
            "ebc46f6d9f9e46bf8664960e520fc543",
            "466ab231131d435a9552653cad1bb183"
          ],
          "base_uri": "https://localhost:8080/",
          "height": 346
        }
      },
      "outputs": [
        {
          "output_type": "display_data",
          "data": {
            "text/plain": [
              "interactive(children=(FloatSlider(value=0.0, description='t', max=6.150444060068563, step=0.06150444060068563)…"
            ],
            "application/vnd.jupyter.widget-view+json": {
              "version_major": 2,
              "version_minor": 0,
              "model_id": "7bb6e11c155441a1bce9c8dc5afaa9d5"
            }
          },
          "metadata": {}
        },
        {
          "output_type": "execute_result",
          "data": {
            "text/plain": [
              "<pybamm.plotting.quick_plot.QuickPlot at 0x7fbeaf43c490>"
            ]
          },
          "metadata": {},
          "execution_count": 46
        }
      ],
      "source": [
        "sim_dfn.plot([[\"Electrode current density\", \"Electrolyte current density\"], \"Terminal voltage [V]\"])"
      ]
    },
    {
      "cell_type": "code",
      "execution_count": null,
      "metadata": {
        "id": "IoGxy5MZgHFU",
        "outputId": "0be7b3ea-b8b5-47ba-ea84-605166ed1dfe",
        "colab": {
          "referenced_widgets": [
            "a29d41774a6b47e4bedae6fa898123ef",
            "5a5fa237f3184516aa41d91d2aa87ee8",
            "abe8074df30948af8b4f43e006c31ada",
            "9dee91495f5447d2bf934c666df91871",
            "1bf147666b544fdfb6d8e96116dd8a38",
            "9d5b25a965fa4966908481634e5c01ae",
            "3fb4478287c743e7973cff3dc8b337fe"
          ],
          "base_uri": "https://localhost:8080/",
          "height": 562
        }
      },
      "outputs": [
        {
          "output_type": "display_data",
          "data": {
            "text/plain": [
              "interactive(children=(FloatSlider(value=0.0, description='t', max=5.062932533703162, step=0.050629325337031614…"
            ],
            "application/vnd.jupyter.widget-view+json": {
              "version_major": 2,
              "version_minor": 0,
              "model_id": "a29d41774a6b47e4bedae6fa898123ef"
            }
          },
          "metadata": {}
        },
        {
          "output_type": "execute_result",
          "data": {
            "text/plain": [
              "<pybamm.plotting.quick_plot.QuickPlot at 0x7fbeba974580>"
            ]
          },
          "metadata": {},
          "execution_count": 28
        }
      ],
      "source": [
        "sim_dfn.plot()"
      ]
    },
    {
      "cell_type": "markdown",
      "metadata": {
        "id": "ads-Gf3VgHFV"
      },
      "source": [
        "For plotting the voltage components you can use the `plot_votage_components` function"
      ]
    },
    {
      "cell_type": "code",
      "execution_count": null,
      "metadata": {
        "id": "jTK7gP5xgHFV",
        "outputId": "6b5d16db-5eb1-4797-9d12-4722ce551c92",
        "colab": {
          "base_uri": "https://localhost:8080/",
          "height": 299
        }
      },
      "outputs": [
        {
          "output_type": "display_data",
          "data": {
            "text/plain": [
              "<Figure size 432x288 with 1 Axes>"
            ],
            "image/png": "[encoded data removed]"
          },
          "metadata": {
            "needs_background": "light"
          }
        },
        {
          "output_type": "execute_result",
          "data": {
            "text/plain": [
              "(<Figure size 432x288 with 1 Axes>, <AxesSubplot:xlabel='Time [h]'>)"
            ]
          },
          "metadata": {},
          "execution_count": 29
        }
      ],
      "source": [
        "pybamm.plot_voltage_components(sim_dfn.solution)"
      ]
    },
    {
      "cell_type": "markdown",
      "metadata": {
        "id": "0FL6HbgFgHFV"
      },
      "source": [
        "And with a few modifications (by creating subplots and by providing the axes on which the voltage components have to be plotted), it can also be used to compare the voltage components of different simulations"
      ]
    },
    {
      "cell_type": "code",
      "execution_count": null,
      "metadata": {
        "id": "-5HdcHajgHFW",
        "outputId": "b7e10e67-63c0-49ad-bc9d-9b9c29afd3b8",
        "colab": {
          "base_uri": "https://localhost:8080/",
          "height": 664
        }
      },
      "outputs": [
        {
          "output_type": "stream",
          "name": "stdout",
          "text": [
            "Current function [A]\t5.0\n",
            "Negative current collector conductivity [S.m-1]\t58411000.0\n",
            "Negative current collector density [kg.m-3]\t8960.0\n",
            "Negative current collector specific heat capacity [J.kg-1.K-1]\t385.0\n",
            "Negative current collector thermal conductivity [W.m-1.K-1]\t401.0\n",
            "Negative current collector thickness [m]\t1.2e-05\n",
            "Negative electrode exchange-current density [A.m-2]\t<function graphite_LGM50_electrolyte_exchange_current_density_Chen2020 at 0x7fbebae1e700>\n",
            "Positive current collector conductivity [S.m-1]\t36914000.0\n",
            "Positive current collector density [kg.m-3]\t2700.0\n",
            "Positive current collector specific heat capacity [J.kg-1.K-1]\t897.0\n",
            "Positive current collector thermal conductivity [W.m-1.K-1]\t237.0\n",
            "Positive current collector thickness [m]\t1.6e-05\n",
            "Positive electrode exchange-current density [A.m-2]\t<function nmc_LGM50_electrolyte_exchange_current_density_Chen2020 at 0x7fbebae1e820>\n",
            "SEI reaction exchange current density [A.m-2]\t1.5e-07\n",
            "Typical current [A]\t5.0\n"
          ]
        },
        {
          "output_type": "display_data",
          "data": {
            "text/plain": [
              "<Figure size 1080x432 with 2 Axes>"
            ],
            "image/png": "[encoded data removed]"
          },
          "metadata": {
            "needs_background": "light"
          }
        }
      ],
      "source": [
        "# simulating and solving Single Particle Model\n",
        "\n",
        "parameter_values = pybamm.ParameterValues(\"Chen2020\")\n",
        "parameter_values.search(\"Current\")\n",
        "parameter_values[\"Current function [A]\"] = 1\n",
        "\n",
        "model_dfn = pybamm.lithium_ion.DFN()\n",
        "sim_dfn = pybamm.Simulation(model_dfn, parameter_values=parameter_values)\n",
        "sim_dfn.solve([0, 37000])\n",
        "\n",
        "model_spm = pybamm.lithium_ion.SPM()\n",
        "sim_spm = pybamm.Simulation(model_spm, parameter_values=parameter_values)\n",
        "sim_spm.solve([0, 37000])\n",
        "\n",
        "# comparing voltage components for Doyle-Fuller-Newman model and Single Particle Model\n",
        "fig, axes = plt.subplots(1, 2, figsize=(15, 6), sharey=True)\n",
        "\n",
        "pybamm.plot_voltage_components(sim_dfn.solution, ax=axes.flat[0])\n",
        "pybamm.plot_voltage_components(sim_spm.solution, ax=axes.flat[1])\n",
        "\n",
        "axes.flat[0].set_title(\"Doyle-Fuller-Newman Model\")\n",
        "axes.flat[1].set_title(\"Single Particle Model\")\n",
        "\n",
        "plt.show()"
      ]
    },
    {
      "cell_type": "markdown",
      "metadata": {
        "id": "n_XNLskHgHFW"
      },
      "source": [
        "In this tutorial we have seen how to use the plotting functionality in PyBaMM.\n",
        "\n",
        "In [Tutorial 4](./Tutorial%204%20-%20Setting%20parameter%20values.ipynb) we show how to change parameter values."
      ]
    },
    {
      "cell_type": "markdown",
      "metadata": {
        "id": "LNezjtCkgHFX"
      },
      "source": [
        "## References\n",
        "\n",
        "The relevant papers for this notebook are:"
      ]
    },
    {
      "cell_type": "code",
      "execution_count": null,
      "metadata": {
        "id": "CdL11hpfgHFX",
        "outputId": "c6f904e2-f8b2-4eaf-89fc-91fda58cd557"
      },
      "outputs": [
        {
          "name": "stdout",
          "output_type": "stream",
          "text": [
            "[1] Joel A. E. Andersson, Joris Gillis, Greg Horn, James B. Rawlings, and Moritz Diehl. CasADi – A software framework for nonlinear optimization and optimal control. Mathematical Programming Computation, 11(1):1–36, 2019. doi:10.1007/s12532-018-0139-4.\n",
            "[2] Marc Doyle, Thomas F. Fuller, and John Newman. Modeling of galvanostatic charge and discharge of the lithium/polymer/insertion cell. Journal of the Electrochemical society, 140(6):1526–1533, 1993. doi:10.1149/1.2221597.\n",
            "[3] Charles R. Harris, K. Jarrod Millman, Stéfan J. van der Walt, Ralf Gommers, Pauli Virtanen, David Cournapeau, Eric Wieser, Julian Taylor, Sebastian Berg, Nathaniel J. Smith, and others. Array programming with NumPy. Nature, 585(7825):357–362, 2020. doi:10.1038/s41586-020-2649-2.\n",
            "[4] Scott G. Marquis, Valentin Sulzer, Robert Timms, Colin P. Please, and S. Jon Chapman. An asymptotic derivation of a single particle model with electrolyte. Journal of The Electrochemical Society, 166(15):A3693–A3706, 2019. doi:10.1149/2.0341915jes.\n",
            "[5] Valentin Sulzer, Scott G. Marquis, Robert Timms, Martin Robinson, and S. Jon Chapman. Python Battery Mathematical Modelling (PyBaMM). Journal of Open Research Software, 9(1):14, 2021. doi:10.5334/jors.309.\n",
            "\n"
          ]
        }
      ],
      "source": [
        "pybamm.print_citations()"
      ]
    }
  ],
  "metadata": {
    "kernelspec": {
      "display_name": "Python 3.9.13 ('python39-pybamm')",
      "language": "python",
      "name": "python3"
    },
    "language_info": {
      "codemirror_mode": {
        "name": "ipython",
        "version": 3
      },
      "file_extension": ".py",
      "mimetype": "text/x-python",
      "name": "python",
      "nbconvert_exporter": "python",
      "pygments_lexer": "ipython3",
      "version": "3.9.13"
    },
    "vscode": {
      "interpreter": {
        "hash": "7dc94e087d5e42ea54b14035c48a0a59093d5180e7f512a1db8f70eb4b99d01e"
      }
    },
    "colab": {
      "provenance": [],
      "include_colab_link": true
    },
    "widgets": {
      "application/vnd.jupyter.widget-state+json": {
        "a29d41774a6b47e4bedae6fa898123ef": {
          "model_module": "@jupyter-widgets/controls",
          "model_name": "VBoxModel",
          "model_module_version": "1.5.0",
          "state": {
            "_dom_classes": [
              "widget-interact"
            ],
            "_model_module": "@jupyter-widgets/controls",
            "_model_module_version": "1.5.0",
            "_model_name": "VBoxModel",
            "_view_count": null,
            "_view_module": "@jupyter-widgets/controls",
            "_view_module_version": "1.5.0",
            "_view_name": "VBoxView",
            "box_style": "",
            "children": [
              "IPY_MODEL_5a5fa237f3184516aa41d91d2aa87ee8",
              "IPY_MODEL_abe8074df30948af8b4f43e006c31ada"
            ],
            "layout": "IPY_MODEL_9dee91495f5447d2bf934c666df91871"
          }
        },
        "5a5fa237f3184516aa41d91d2aa87ee8": {
          "model_module": "@jupyter-widgets/controls",
          "model_name": "FloatSliderModel",
          "model_module_version": "1.5.0",
          "state": {
            "_dom_classes": [],
            "_model_module": "@jupyter-widgets/controls",
            "_model_module_version": "1.5.0",
            "_model_name": "FloatSliderModel",
            "_view_count": null,
            "_view_module": "@jupyter-widgets/controls",
            "_view_module_version": "1.5.0",
            "_view_name": "FloatSliderView",
            "continuous_update": true,
            "description": "t",
            "description_tooltip": null,
            "disabled": false,
            "layout": "IPY_MODEL_1bf147666b544fdfb6d8e96116dd8a38",
            "max": 5.062932533703162,
            "min": 0,
            "orientation": "horizontal",
            "readout": true,
            "readout_format": ".2f",
            "step": 0.050629325337031614,
            "style": "IPY_MODEL_9d5b25a965fa4966908481634e5c01ae",
            "value": 2.68335
          }
        },
        "abe8074df30948af8b4f43e006c31ada": {
          "model_module": "@jupyter-widgets/output",
          "model_name": "OutputModel",
          "model_module_version": "1.0.0",
          "state": {
            "_dom_classes": [],
            "_model_module": "@jupyter-widgets/output",
            "_model_module_version": "1.0.0",
            "_model_name": "OutputModel",
            "_view_count": null,
            "_view_module": "@jupyter-widgets/output",
            "_view_module_version": "1.0.0",
            "_view_name": "OutputView",
            "layout": "IPY_MODEL_3fb4478287c743e7973cff3dc8b337fe",
            "msg_id": "",
            "outputs": [
              {
                "output_type": "display_data",
                "data": {
                  "text/plain": "<Figure size 1080x504 with 8 Axes>",
                  "image/png": "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\n"
                },
                "metadata": {
                  "needs_background": "light"
                }
              }
            ]
          }
        },
        "9dee91495f5447d2bf934c666df91871": {
          "model_module": "@jupyter-widgets/base",
          "model_name": "LayoutModel",
          "model_module_version": "1.2.0",
          "state": {
            "_model_module": "@jupyter-widgets/base",
            "_model_module_version": "1.2.0",
            "_model_name": "LayoutModel",
            "_view_count": null,
            "_view_module": "@jupyter-widgets/base",
            "_view_module_version": "1.2.0",
            "_view_name": "LayoutView",
            "align_content": null,
            "align_items": null,
            "align_self": null,
            "border": null,
            "bottom": null,
            "display": null,
            "flex": null,
            "flex_flow": null,
            "grid_area": null,
            "grid_auto_columns": null,
            "grid_auto_flow": null,
            "grid_auto_rows": null,
            "grid_column": null,
            "grid_gap": null,
            "grid_row": null,
            "grid_template_areas": null,
            "grid_template_columns": null,
            "grid_template_rows": null,
            "height": null,
            "justify_content": null,
            "justify_items": null,
            "left": null,
            "margin": null,
            "max_height": null,
            "max_width": null,
            "min_height": null,
            "min_width": null,
            "object_fit": null,
            "object_position": null,
            "order": null,
            "overflow": null,
            "overflow_x": null,
            "overflow_y": null,
            "padding": null,
            "right": null,
            "top": null,
            "visibility": null,
            "width": null
          }
        },
        "1bf147666b544fdfb6d8e96116dd8a38": {
          "model_module": "@jupyter-widgets/base",
          "model_name": "LayoutModel",
          "model_module_version": "1.2.0",
          "state": {
            "_model_module": "@jupyter-widgets/base",
            "_model_module_version": "1.2.0",
            "_model_name": "LayoutModel",
            "_view_count": null,
            "_view_module": "@jupyter-widgets/base",
            "_view_module_version": "1.2.0",
            "_view_name": "LayoutView",
            "align_content": null,
            "align_items": null,
            "align_self": null,
            "border": null,
            "bottom": null,
            "display": null,
            "flex": null,
            "flex_flow": null,
            "grid_area": null,
            "grid_auto_columns": null,
            "grid_auto_flow": null,
            "grid_auto_rows": null,
            "grid_column": null,
            "grid_gap": null,
            "grid_row": null,
            "grid_template_areas": null,
            "grid_template_columns": null,
            "grid_template_rows": null,
            "height": null,
            "justify_content": null,
            "justify_items": null,
            "left": null,
            "margin": null,
            "max_height": null,
            "max_width": null,
            "min_height": null,
            "min_width": null,
            "object_fit": null,
            "object_position": null,
            "order": null,
            "overflow": null,
            "overflow_x": null,
            "overflow_y": null,
            "padding": null,
            "right": null,
            "top": null,
            "visibility": null,
            "width": null
          }
        },
        "9d5b25a965fa4966908481634e5c01ae": {
          "model_module": "@jupyter-widgets/controls",
          "model_name": "SliderStyleModel",
          "model_module_version": "1.5.0",
          "state": {
            "_model_module": "@jupyter-widgets/controls",
            "_model_module_version": "1.5.0",
            "_model_name": "SliderStyleModel",
            "_view_count": null,
            "_view_module": "@jupyter-widgets/base",
            "_view_module_version": "1.2.0",
            "_view_name": "StyleView",
            "description_width": "",
            "handle_color": null
          }
        },
        "3fb4478287c743e7973cff3dc8b337fe": {
          "model_module": "@jupyter-widgets/base",
          "model_name": "LayoutModel",
          "model_module_version": "1.2.0",
          "state": {
            "_model_module": "@jupyter-widgets/base",
            "_model_module_version": "1.2.0",
            "_model_name": "LayoutModel",
            "_view_count": null,
            "_view_module": "@jupyter-widgets/base",
            "_view_module_version": "1.2.0",
            "_view_name": "LayoutView",
            "align_content": null,
            "align_items": null,
            "align_self": null,
            "border": null,
            "bottom": null,
            "display": null,
            "flex": null,
            "flex_flow": null,
            "grid_area": null,
            "grid_auto_columns": null,
            "grid_auto_flow": null,
            "grid_auto_rows": null,
            "grid_column": null,
            "grid_gap": null,
            "grid_row": null,
            "grid_template_areas": null,
            "grid_template_columns": null,
            "grid_template_rows": null,
            "height": null,
            "justify_content": null,
            "justify_items": null,
            "left": null,
            "margin": null,
            "max_height": null,
            "max_width": null,
            "min_height": null,
            "min_width": null,
            "object_fit": null,
            "object_position": null,
            "order": null,
            "overflow": null,
            "overflow_x": null,
            "overflow_y": null,
            "padding": null,
            "right": null,
            "top": null,
            "visibility": null,
            "width": null
          }
        },
        "541fd6fbb8bd48c798ed21964866fc40": {
          "model_module": "@jupyter-widgets/controls",
          "model_name": "VBoxModel",
          "model_module_version": "1.5.0",
          "state": {
            "_dom_classes": [
              "widget-interact"
            ],
            "_model_module": "@jupyter-widgets/controls",
            "_model_module_version": "1.5.0",
            "_model_name": "VBoxModel",
            "_view_count": null,
            "_view_module": "@jupyter-widgets/controls",
            "_view_module_version": "1.5.0",
            "_view_name": "VBoxView",
            "box_style": "",
            "children": [
              "IPY_MODEL_3620d10b6c3e40bebe798c17685399f4",
              "IPY_MODEL_b91268c97d0d440792e23d2a3b08a4d8"
            ],
            "layout": "IPY_MODEL_cee0ce0ca4e34ec782c5d4abd90bf7af"
          }
        },
        "3620d10b6c3e40bebe798c17685399f4": {
          "model_module": "@jupyter-widgets/controls",
          "model_name": "FloatSliderModel",
          "model_module_version": "1.5.0",
          "state": {
            "_dom_classes": [],
            "_model_module": "@jupyter-widgets/controls",
            "_model_module_version": "1.5.0",
            "_model_name": "FloatSliderModel",
            "_view_count": null,
            "_view_module": "@jupyter-widgets/controls",
            "_view_module_version": "1.5.0",
            "_view_name": "FloatSliderView",
            "continuous_update": true,
            "description": "t",
            "description_tooltip": null,
            "disabled": false,
            "layout": "IPY_MODEL_ab3476ad2ae04a1c948c7e4d6c5038eb",
            "max": 6.150444060068563,
            "min": 0,
            "orientation": "horizontal",
            "readout": true,
            "readout_format": ".2f",
            "step": 0.06150444060068563,
            "style": "IPY_MODEL_4d5cf37bea4b4a2499f127eb04d3bf1f",
            "value": 0.43053
          }
        },
        "b91268c97d0d440792e23d2a3b08a4d8": {
          "model_module": "@jupyter-widgets/output",
          "model_name": "OutputModel",
          "model_module_version": "1.0.0",
          "state": {
            "_dom_classes": [],
            "_model_module": "@jupyter-widgets/output",
            "_model_module_version": "1.0.0",
            "_model_name": "OutputModel",
            "_view_count": null,
            "_view_module": "@jupyter-widgets/output",
            "_view_module_version": "1.0.0",
            "_view_name": "OutputView",
            "layout": "IPY_MODEL_f2b1399246874c6e84b2e2e83b13d5b1",
            "msg_id": "",
            "outputs": [
              {
                "output_type": "display_data",
                "data": {
                  "text/plain": "<Figure size 1080x504 with 10 Axes>",
                  "image/png": "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\n"
                },
                "metadata": {
                  "needs_background": "light"
                }
              }
            ]
          }
        },
        "cee0ce0ca4e34ec782c5d4abd90bf7af": {
          "model_module": "@jupyter-widgets/base",
          "model_name": "LayoutModel",
          "model_module_version": "1.2.0",
          "state": {
            "_model_module": "@jupyter-widgets/base",
            "_model_module_version": "1.2.0",
            "_model_name": "LayoutModel",
            "_view_count": null,
            "_view_module": "@jupyter-widgets/base",
            "_view_module_version": "1.2.0",
            "_view_name": "LayoutView",
            "align_content": null,
            "align_items": null,
            "align_self": null,
            "border": null,
            "bottom": null,
            "display": null,
            "flex": null,
            "flex_flow": null,
            "grid_area": null,
            "grid_auto_columns": null,
            "grid_auto_flow": null,
            "grid_auto_rows": null,
            "grid_column": null,
            "grid_gap": null,
            "grid_row": null,
            "grid_template_areas": null,
            "grid_template_columns": null,
            "grid_template_rows": null,
            "height": null,
            "justify_content": null,
            "justify_items": null,
            "left": null,
            "margin": null,
            "max_height": null,
            "max_width": null,
            "min_height": null,
            "min_width": null,
            "object_fit": null,
            "object_position": null,
            "order": null,
            "overflow": null,
            "overflow_x": null,
            "overflow_y": null,
            "padding": null,
            "right": null,
            "top": null,
            "visibility": null,
            "width": null
          }
        },
        "ab3476ad2ae04a1c948c7e4d6c5038eb": {
          "model_module": "@jupyter-widgets/base",
          "model_name": "LayoutModel",
          "model_module_version": "1.2.0",
          "state": {
            "_model_module": "@jupyter-widgets/base",
            "_model_module_version": "1.2.0",
            "_model_name": "LayoutModel",
            "_view_count": null,
            "_view_module": "@jupyter-widgets/base",
            "_view_module_version": "1.2.0",
            "_view_name": "LayoutView",
            "align_content": null,
            "align_items": null,
            "align_self": null,
            "border": null,
            "bottom": null,
            "display": null,
            "flex": null,
            "flex_flow": null,
            "grid_area": null,
            "grid_auto_columns": null,
            "grid_auto_flow": null,
            "grid_auto_rows": null,
            "grid_column": null,
            "grid_gap": null,
            "grid_row": null,
            "grid_template_areas": null,
            "grid_template_columns": null,
            "grid_template_rows": null,
            "height": null,
            "justify_content": null,
            "justify_items": null,
            "left": null,
            "margin": null,
            "max_height": null,
            "max_width": null,
            "min_height": null,
            "min_width": null,
            "object_fit": null,
            "object_position": null,
            "order": null,
            "overflow": null,
            "overflow_x": null,
            "overflow_y": null,
            "padding": null,
            "right": null,
            "top": null,
            "visibility": null,
            "width": null
          }
        },
        "4d5cf37bea4b4a2499f127eb04d3bf1f": {
          "model_module": "@jupyter-widgets/controls",
          "model_name": "SliderStyleModel",
          "model_module_version": "1.5.0",
          "state": {
            "_model_module": "@jupyter-widgets/controls",
            "_model_module_version": "1.5.0",
            "_model_name": "SliderStyleModel",
            "_view_count": null,
            "_view_module": "@jupyter-widgets/base",
            "_view_module_version": "1.2.0",
            "_view_name": "StyleView",
            "description_width": "",
            "handle_color": null
          }
        },
        "f2b1399246874c6e84b2e2e83b13d5b1": {
          "model_module": "@jupyter-widgets/base",
          "model_name": "LayoutModel",
          "model_module_version": "1.2.0",
          "state": {
            "_model_module": "@jupyter-widgets/base",
            "_model_module_version": "1.2.0",
            "_model_name": "LayoutModel",
            "_view_count": null,
            "_view_module": "@jupyter-widgets/base",
            "_view_module_version": "1.2.0",
            "_view_name": "LayoutView",
            "align_content": null,
            "align_items": null,
            "align_self": null,
            "border": null,
            "bottom": null,
            "display": null,
            "flex": null,
            "flex_flow": null,
            "grid_area": null,
            "grid_auto_columns": null,
            "grid_auto_flow": null,
            "grid_auto_rows": null,
            "grid_column": null,
            "grid_gap": null,
            "grid_row": null,
            "grid_template_areas": null,
            "grid_template_columns": null,
            "grid_template_rows": null,
            "height": null,
            "justify_content": null,
            "justify_items": null,
            "left": null,
            "margin": null,
            "max_height": null,
            "max_width": null,
            "min_height": null,
            "min_width": null,
            "object_fit": null,
            "object_position": null,
            "order": null,
            "overflow": null,
            "overflow_x": null,
            "overflow_y": null,
            "padding": null,
            "right": null,
            "top": null,
            "visibility": null,
            "width": null
          }
        },
        "7bb6e11c155441a1bce9c8dc5afaa9d5": {
          "model_module": "@jupyter-widgets/controls",
          "model_name": "VBoxModel",
          "model_module_version": "1.5.0",
          "state": {
            "_dom_classes": [
              "widget-interact"
            ],
            "_model_module": "@jupyter-widgets/controls",
            "_model_module_version": "1.5.0",
            "_model_name": "VBoxModel",
            "_view_count": null,
            "_view_module": "@jupyter-widgets/controls",
            "_view_module_version": "1.5.0",
            "_view_name": "VBoxView",
            "box_style": "",
            "children": [
              "IPY_MODEL_dbd2f738e45b4b7b8a73ceb7e89a377d",
              "IPY_MODEL_545f49fd26704b78becef02fea9eb28b"
            ],
            "layout": "IPY_MODEL_e638d7f76b684718a26f4d76ab167dbd"
          }
        },
        "dbd2f738e45b4b7b8a73ceb7e89a377d": {
          "model_module": "@jupyter-widgets/controls",
          "model_name": "FloatSliderModel",
          "model_module_version": "1.5.0",
          "state": {
            "_dom_classes": [],
            "_model_module": "@jupyter-widgets/controls",
            "_model_module_version": "1.5.0",
            "_model_name": "FloatSliderModel",
            "_view_count": null,
            "_view_module": "@jupyter-widgets/controls",
            "_view_module_version": "1.5.0",
            "_view_name": "FloatSliderView",
            "continuous_update": true,
            "description": "t",
            "description_tooltip": null,
            "disabled": false,
            "layout": "IPY_MODEL_af514aa4164b42399dc63cdd30ebebde",
            "max": 6.150444060068563,
            "min": 0,
            "orientation": "horizontal",
            "readout": true,
            "readout_format": ".2f",
            "step": 0.06150444060068563,
            "style": "IPY_MODEL_ebc46f6d9f9e46bf8664960e520fc543",
            "value": 0
          }
        },
        "545f49fd26704b78becef02fea9eb28b": {
          "model_module": "@jupyter-widgets/output",
          "model_name": "OutputModel",
          "model_module_version": "1.0.0",
          "state": {
            "_dom_classes": [],
            "_model_module": "@jupyter-widgets/output",
            "_model_module_version": "1.0.0",
            "_model_name": "OutputModel",
            "_view_count": null,
            "_view_module": "@jupyter-widgets/output",
            "_view_module_version": "1.0.0",
            "_view_name": "OutputView",
            "layout": "IPY_MODEL_466ab231131d435a9552653cad1bb183",
            "msg_id": "",
            "outputs": [
              {
                "output_type": "display_data",
                "data": {
                  "text/plain": "<Figure size 576x288 with 2 Axes>",
                  "image/png": "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\n"
                },
                "metadata": {
                  "needs_background": "light"
                }
              }
            ]
          }
        },
        "e638d7f76b684718a26f4d76ab167dbd": {
          "model_module": "@jupyter-widgets/base",
          "model_name": "LayoutModel",
          "model_module_version": "1.2.0",
          "state": {
            "_model_module": "@jupyter-widgets/base",
            "_model_module_version": "1.2.0",
            "_model_name": "LayoutModel",
            "_view_count": null,
            "_view_module": "@jupyter-widgets/base",
            "_view_module_version": "1.2.0",
            "_view_name": "LayoutView",
            "align_content": null,
            "align_items": null,
            "align_self": null,
            "border": null,
            "bottom": null,
            "display": null,
            "flex": null,
            "flex_flow": null,
            "grid_area": null,
            "grid_auto_columns": null,
            "grid_auto_flow": null,
            "grid_auto_rows": null,
            "grid_column": null,
            "grid_gap": null,
            "grid_row": null,
            "grid_template_areas": null,
            "grid_template_columns": null,
            "grid_template_rows": null,
            "height": null,
            "justify_content": null,
            "justify_items": null,
            "left": null,
            "margin": null,
            "max_height": null,
            "max_width": null,
            "min_height": null,
            "min_width": null,
            "object_fit": null,
            "object_position": null,
            "order": null,
            "overflow": null,
            "overflow_x": null,
            "overflow_y": null,
            "padding": null,
            "right": null,
            "top": null,
            "visibility": null,
            "width": null
          }
        },
        "af514aa4164b42399dc63cdd30ebebde": {
          "model_module": "@jupyter-widgets/base",
          "model_name": "LayoutModel",
          "model_module_version": "1.2.0",
          "state": {
            "_model_module": "@jupyter-widgets/base",
            "_model_module_version": "1.2.0",
            "_model_name": "LayoutModel",
            "_view_count": null,
            "_view_module": "@jupyter-widgets/base",
            "_view_module_version": "1.2.0",
            "_view_name": "LayoutView",
            "align_content": null,
            "align_items": null,
            "align_self": null,
            "border": null,
            "bottom": null,
            "display": null,
            "flex": null,
            "flex_flow": null,
            "grid_area": null,
            "grid_auto_columns": null,
            "grid_auto_flow": null,
            "grid_auto_rows": null,
            "grid_column": null,
            "grid_gap": null,
            "grid_row": null,
            "grid_template_areas": null,
            "grid_template_columns": null,
            "grid_template_rows": null,
            "height": null,
            "justify_content": null,
            "justify_items": null,
            "left": null,
            "margin": null,
            "max_height": null,
            "max_width": null,
            "min_height": null,
            "min_width": null,
            "object_fit": null,
            "object_position": null,
            "order": null,
            "overflow": null,
            "overflow_x": null,
            "overflow_y": null,
            "padding": null,
            "right": null,
            "top": null,
            "visibility": null,
            "width": null
          }
        },
        "ebc46f6d9f9e46bf8664960e520fc543": {
          "model_module": "@jupyter-widgets/controls",
          "model_name": "SliderStyleModel",
          "model_module_version": "1.5.0",
          "state": {
            "_model_module": "@jupyter-widgets/controls",
            "_model_module_version": "1.5.0",
            "_model_name": "SliderStyleModel",
            "_view_count": null,
            "_view_module": "@jupyter-widgets/base",
            "_view_module_version": "1.2.0",
            "_view_name": "StyleView",
            "description_width": "",
            "handle_color": null
          }
        },
        "466ab231131d435a9552653cad1bb183": {
          "model_module": "@jupyter-widgets/base",
          "model_name": "LayoutModel",
          "model_module_version": "1.2.0",
          "state": {
            "_model_module": "@jupyter-widgets/base",
            "_model_module_version": "1.2.0",
            "_model_name": "LayoutModel",
            "_view_count": null,
            "_view_module": "@jupyter-widgets/base",
            "_view_module_version": "1.2.0",
            "_view_name": "LayoutView",
            "align_content": null,
            "align_items": null,
            "align_self": null,
            "border": null,
            "bottom": null,
            "display": null,
            "flex": null,
            "flex_flow": null,
            "grid_area": null,
            "grid_auto_columns": null,
            "grid_auto_flow": null,
            "grid_auto_rows": null,
            "grid_column": null,
            "grid_gap": null,
            "grid_row": null,
            "grid_template_areas": null,
            "grid_template_columns": null,
            "grid_template_rows": null,
            "height": null,
            "justify_content": null,
            "justify_items": null,
            "left": null,
            "margin": null,
            "max_height": null,
            "max_width": null,
            "min_height": null,
            "min_width": null,
            "object_fit": null,
            "object_position": null,
            "order": null,
            "overflow": null,
            "overflow_x": null,
            "overflow_y": null,
            "padding": null,
            "right": null,
            "top": null,
            "visibility": null,
            "width": null
          }
        },
        "7adac0a9ad96440a9af6c8b23f20fd14": {
          "model_module": "@jupyter-widgets/controls",
          "model_name": "VBoxModel",
          "model_module_version": "1.5.0",
          "state": {
            "_dom_classes": [
              "widget-interact"
            ],
            "_model_module": "@jupyter-widgets/controls",
            "_model_module_version": "1.5.0",
            "_model_name": "VBoxModel",
            "_view_count": null,
            "_view_module": "@jupyter-widgets/controls",
            "_view_module_version": "1.5.0",
            "_view_name": "VBoxView",
            "box_style": "",
            "children": [
              "IPY_MODEL_95e1b2b89a2a4c73b5aaec98c5deb585",
              "IPY_MODEL_68ad638908624b68bedf89293f0441a4"
            ],
            "layout": "IPY_MODEL_a319fe08a3c3473a83dc886121d90d9f"
          }
        },
        "95e1b2b89a2a4c73b5aaec98c5deb585": {
          "model_module": "@jupyter-widgets/controls",
          "model_name": "FloatSliderModel",
          "model_module_version": "1.5.0",
          "state": {
            "_dom_classes": [],
            "_model_module": "@jupyter-widgets/controls",
            "_model_module_version": "1.5.0",
            "_model_name": "FloatSliderModel",
            "_view_count": null,
            "_view_module": "@jupyter-widgets/controls",
            "_view_module_version": "1.5.0",
            "_view_name": "FloatSliderView",
            "continuous_update": true,
            "description": "t",
            "description_tooltip": null,
            "disabled": false,
            "layout": "IPY_MODEL_d7ef0fadc49e469fb75b0dc131b1ab2f",
            "max": 3555.450397628192,
            "min": 0,
            "orientation": "horizontal",
            "readout": true,
            "readout_format": ".2f",
            "step": 35.55450397628192,
            "style": "IPY_MODEL_f16de521a8624256b9ca4c16fb8481db",
            "value": 2346.59726
          }
        },
        "68ad638908624b68bedf89293f0441a4": {
          "model_module": "@jupyter-widgets/output",
          "model_name": "OutputModel",
          "model_module_version": "1.0.0",
          "state": {
            "_dom_classes": [],
            "_model_module": "@jupyter-widgets/output",
            "_model_module_version": "1.0.0",
            "_model_name": "OutputModel",
            "_view_count": null,
            "_view_module": "@jupyter-widgets/output",
            "_view_module_version": "1.0.0",
            "_view_name": "OutputView",
            "layout": "IPY_MODEL_26225c675fcd47c38e7931fa9d52e532",
            "msg_id": "",
            "outputs": [
              {
                "output_type": "display_data",
                "data": {
                  "text/plain": "<Figure size 288x288 with 1 Axes>",
                  "image/png": "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\n"
                },
                "metadata": {
                  "needs_background": "light"
                }
              }
            ]
          }
        },
        "a319fe08a3c3473a83dc886121d90d9f": {
          "model_module": "@jupyter-widgets/base",
          "model_name": "LayoutModel",
          "model_module_version": "1.2.0",
          "state": {
            "_model_module": "@jupyter-widgets/base",
            "_model_module_version": "1.2.0",
            "_model_name": "LayoutModel",
            "_view_count": null,
            "_view_module": "@jupyter-widgets/base",
            "_view_module_version": "1.2.0",
            "_view_name": "LayoutView",
            "align_content": null,
            "align_items": null,
            "align_self": null,
            "border": null,
            "bottom": null,
            "display": null,
            "flex": null,
            "flex_flow": null,
            "grid_area": null,
            "grid_auto_columns": null,
            "grid_auto_flow": null,
            "grid_auto_rows": null,
            "grid_column": null,
            "grid_gap": null,
            "grid_row": null,
            "grid_template_areas": null,
            "grid_template_columns": null,
            "grid_template_rows": null,
            "height": null,
            "justify_content": null,
            "justify_items": null,
            "left": null,
            "margin": null,
            "max_height": null,
            "max_width": null,
            "min_height": null,
            "min_width": null,
            "object_fit": null,
            "object_position": null,
            "order": null,
            "overflow": null,
            "overflow_x": null,
            "overflow_y": null,
            "padding": null,
            "right": null,
            "top": null,
            "visibility": null,
            "width": null
          }
        },
        "d7ef0fadc49e469fb75b0dc131b1ab2f": {
          "model_module": "@jupyter-widgets/base",
          "model_name": "LayoutModel",
          "model_module_version": "1.2.0",
          "state": {
            "_model_module": "@jupyter-widgets/base",
            "_model_module_version": "1.2.0",
            "_model_name": "LayoutModel",
            "_view_count": null,
            "_view_module": "@jupyter-widgets/base",
            "_view_module_version": "1.2.0",
            "_view_name": "LayoutView",
            "align_content": null,
            "align_items": null,
            "align_self": null,
            "border": null,
            "bottom": null,
            "display": null,
            "flex": null,
            "flex_flow": null,
            "grid_area": null,
            "grid_auto_columns": null,
            "grid_auto_flow": null,
            "grid_auto_rows": null,
            "grid_column": null,
            "grid_gap": null,
            "grid_row": null,
            "grid_template_areas": null,
            "grid_template_columns": null,
            "grid_template_rows": null,
            "height": null,
            "justify_content": null,
            "justify_items": null,
            "left": null,
            "margin": null,
            "max_height": null,
            "max_width": null,
            "min_height": null,
            "min_width": null,
            "object_fit": null,
            "object_position": null,
            "order": null,
            "overflow": null,
            "overflow_x": null,
            "overflow_y": null,
            "padding": null,
            "right": null,
            "top": null,
            "visibility": null,
            "width": null
          }
        },
        "f16de521a8624256b9ca4c16fb8481db": {
          "model_module": "@jupyter-widgets/controls",
          "model_name": "SliderStyleModel",
          "model_module_version": "1.5.0",
          "state": {
            "_model_module": "@jupyter-widgets/controls",
            "_model_module_version": "1.5.0",
            "_model_name": "SliderStyleModel",
            "_view_count": null,
            "_view_module": "@jupyter-widgets/base",
            "_view_module_version": "1.2.0",
            "_view_name": "StyleView",
            "description_width": "",
            "handle_color": null
          }
        },
        "26225c675fcd47c38e7931fa9d52e532": {
          "model_module": "@jupyter-widgets/base",
          "model_name": "LayoutModel",
          "model_module_version": "1.2.0",
          "state": {
            "_model_module": "@jupyter-widgets/base",
            "_model_module_version": "1.2.0",
            "_model_name": "LayoutModel",
            "_view_count": null,
            "_view_module": "@jupyter-widgets/base",
            "_view_module_version": "1.2.0",
            "_view_name": "LayoutView",
            "align_content": null,
            "align_items": null,
            "align_self": null,
            "border": null,
            "bottom": null,
            "display": null,
            "flex": null,
            "flex_flow": null,
            "grid_area": null,
            "grid_auto_columns": null,
            "grid_auto_flow": null,
            "grid_auto_rows": null,
            "grid_column": null,
            "grid_gap": null,
            "grid_row": null,
            "grid_template_areas": null,
            "grid_template_columns": null,
            "grid_template_rows": null,
            "height": null,
            "justify_content": null,
            "justify_items": null,
            "left": null,
            "margin": null,
            "max_height": null,
            "max_width": null,
            "min_height": null,
            "min_width": null,
            "object_fit": null,
            "object_position": null,
            "order": null,
            "overflow": null,
            "overflow_x": null,
            "overflow_y": null,
            "padding": null,
            "right": null,
            "top": null,
            "visibility": null,
            "width": null
          }
        }
      }
    }
  },
  "nbformat": 4,
  "nbformat_minor": 0
}